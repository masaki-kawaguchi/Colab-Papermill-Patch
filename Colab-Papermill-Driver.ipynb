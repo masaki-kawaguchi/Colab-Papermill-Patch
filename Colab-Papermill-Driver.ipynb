{
  "nbformat": 4,
  "nbformat_minor": 0,
  "metadata": {
    "colab": {
      "name": "Colab-Papermill-Driver.ipynb",
      "provenance": [],
      "collapsed_sections": []
    },
    "kernelspec": {
      "name": "python3",
      "display_name": "Python 3"
    },
    "widgets": {
      "application/vnd.jupyter.widget-state+json": {
        "0e6c8faf581d4f388ac3bcb28a01167b": {
          "model_module": "@jupyter-widgets/controls",
          "model_name": "HBoxModel",
          "state": {
            "_view_name": "HBoxView",
            "_dom_classes": [],
            "_model_name": "HBoxModel",
            "_view_module": "@jupyter-widgets/controls",
            "_model_module_version": "1.5.0",
            "_view_count": null,
            "_view_module_version": "1.5.0",
            "box_style": "",
            "layout": "IPY_MODEL_8d949293f0f8409b8cf1e763ab3f1379",
            "_model_module": "@jupyter-widgets/controls",
            "children": [
              "IPY_MODEL_7b5467dea8564ede8cabbd7c3460f13b",
              "IPY_MODEL_214380b031d849acaeded67692dc00aa"
            ]
          }
        },
        "8d949293f0f8409b8cf1e763ab3f1379": {
          "model_module": "@jupyter-widgets/base",
          "model_name": "LayoutModel",
          "state": {
            "_view_name": "LayoutView",
            "grid_template_rows": null,
            "right": null,
            "justify_content": null,
            "_view_module": "@jupyter-widgets/base",
            "overflow": null,
            "_model_module_version": "1.2.0",
            "_view_count": null,
            "flex_flow": null,
            "width": null,
            "min_width": null,
            "border": null,
            "align_items": null,
            "bottom": null,
            "_model_module": "@jupyter-widgets/base",
            "top": null,
            "grid_column": null,
            "overflow_y": null,
            "overflow_x": null,
            "grid_auto_flow": null,
            "grid_area": null,
            "grid_template_columns": null,
            "flex": null,
            "_model_name": "LayoutModel",
            "justify_items": null,
            "grid_row": null,
            "max_height": null,
            "align_content": null,
            "visibility": null,
            "align_self": null,
            "height": null,
            "min_height": null,
            "padding": null,
            "grid_auto_rows": null,
            "grid_gap": null,
            "max_width": null,
            "order": null,
            "_view_module_version": "1.2.0",
            "grid_template_areas": null,
            "object_position": null,
            "object_fit": null,
            "grid_auto_columns": null,
            "margin": null,
            "display": null,
            "left": null
          }
        },
        "7b5467dea8564ede8cabbd7c3460f13b": {
          "model_module": "@jupyter-widgets/controls",
          "model_name": "FloatProgressModel",
          "state": {
            "_view_name": "ProgressView",
            "style": "IPY_MODEL_38f7f7fe267140d19676157c56dfb0f0",
            "_dom_classes": [],
            "description": "Executing: 100%",
            "_model_name": "FloatProgressModel",
            "bar_style": "success",
            "max": 3,
            "_view_module": "@jupyter-widgets/controls",
            "_model_module_version": "1.5.0",
            "value": 3,
            "_view_count": null,
            "_view_module_version": "1.5.0",
            "orientation": "horizontal",
            "min": 0,
            "description_tooltip": null,
            "_model_module": "@jupyter-widgets/controls",
            "layout": "IPY_MODEL_0c721a17e2c74288b3e3c57aead24cfb"
          }
        },
        "214380b031d849acaeded67692dc00aa": {
          "model_module": "@jupyter-widgets/controls",
          "model_name": "HTMLModel",
          "state": {
            "_view_name": "HTMLView",
            "style": "IPY_MODEL_2418d1f6da134c93b5d7b5552e949336",
            "_dom_classes": [],
            "description": "",
            "_model_name": "HTMLModel",
            "placeholder": "​",
            "_view_module": "@jupyter-widgets/controls",
            "_model_module_version": "1.5.0",
            "value": " 3/3 [20:29&lt;00:00, 409.97s/cell]",
            "_view_count": null,
            "_view_module_version": "1.5.0",
            "description_tooltip": null,
            "_model_module": "@jupyter-widgets/controls",
            "layout": "IPY_MODEL_95c8bbfa078a4fd391314f4edc767214"
          }
        },
        "38f7f7fe267140d19676157c56dfb0f0": {
          "model_module": "@jupyter-widgets/controls",
          "model_name": "ProgressStyleModel",
          "state": {
            "_view_name": "StyleView",
            "_model_name": "ProgressStyleModel",
            "description_width": "initial",
            "_view_module": "@jupyter-widgets/base",
            "_model_module_version": "1.5.0",
            "_view_count": null,
            "_view_module_version": "1.2.0",
            "bar_color": null,
            "_model_module": "@jupyter-widgets/controls"
          }
        },
        "0c721a17e2c74288b3e3c57aead24cfb": {
          "model_module": "@jupyter-widgets/base",
          "model_name": "LayoutModel",
          "state": {
            "_view_name": "LayoutView",
            "grid_template_rows": null,
            "right": null,
            "justify_content": null,
            "_view_module": "@jupyter-widgets/base",
            "overflow": null,
            "_model_module_version": "1.2.0",
            "_view_count": null,
            "flex_flow": null,
            "width": null,
            "min_width": null,
            "border": null,
            "align_items": null,
            "bottom": null,
            "_model_module": "@jupyter-widgets/base",
            "top": null,
            "grid_column": null,
            "overflow_y": null,
            "overflow_x": null,
            "grid_auto_flow": null,
            "grid_area": null,
            "grid_template_columns": null,
            "flex": null,
            "_model_name": "LayoutModel",
            "justify_items": null,
            "grid_row": null,
            "max_height": null,
            "align_content": null,
            "visibility": null,
            "align_self": null,
            "height": null,
            "min_height": null,
            "padding": null,
            "grid_auto_rows": null,
            "grid_gap": null,
            "max_width": null,
            "order": null,
            "_view_module_version": "1.2.0",
            "grid_template_areas": null,
            "object_position": null,
            "object_fit": null,
            "grid_auto_columns": null,
            "margin": null,
            "display": null,
            "left": null
          }
        },
        "2418d1f6da134c93b5d7b5552e949336": {
          "model_module": "@jupyter-widgets/controls",
          "model_name": "DescriptionStyleModel",
          "state": {
            "_view_name": "StyleView",
            "_model_name": "DescriptionStyleModel",
            "description_width": "",
            "_view_module": "@jupyter-widgets/base",
            "_model_module_version": "1.5.0",
            "_view_count": null,
            "_view_module_version": "1.2.0",
            "_model_module": "@jupyter-widgets/controls"
          }
        },
        "95c8bbfa078a4fd391314f4edc767214": {
          "model_module": "@jupyter-widgets/base",
          "model_name": "LayoutModel",
          "state": {
            "_view_name": "LayoutView",
            "grid_template_rows": null,
            "right": null,
            "justify_content": null,
            "_view_module": "@jupyter-widgets/base",
            "overflow": null,
            "_model_module_version": "1.2.0",
            "_view_count": null,
            "flex_flow": null,
            "width": null,
            "min_width": null,
            "border": null,
            "align_items": null,
            "bottom": null,
            "_model_module": "@jupyter-widgets/base",
            "top": null,
            "grid_column": null,
            "overflow_y": null,
            "overflow_x": null,
            "grid_auto_flow": null,
            "grid_area": null,
            "grid_template_columns": null,
            "flex": null,
            "_model_name": "LayoutModel",
            "justify_items": null,
            "grid_row": null,
            "max_height": null,
            "align_content": null,
            "visibility": null,
            "align_self": null,
            "height": null,
            "min_height": null,
            "padding": null,
            "grid_auto_rows": null,
            "grid_gap": null,
            "max_width": null,
            "order": null,
            "_view_module_version": "1.2.0",
            "grid_template_areas": null,
            "object_position": null,
            "object_fit": null,
            "grid_auto_columns": null,
            "margin": null,
            "display": null,
            "left": null
          }
        }
      }
    }
  },
  "cells": [
    {
      "cell_type": "markdown",
      "metadata": {
        "id": "BjXtKdze9ksA",
        "colab_type": "text"
      },
      "source": [
        "# Colab Papermill Driver\n",
        "## Install and Import\n",
        "Download and install or upgrade Papermill automatically and import the neccessary packages."
      ]
    },
    {
      "cell_type": "code",
      "metadata": {
        "id": "Z0RMKpysixqI",
        "colab_type": "code",
        "outputId": "8ba66e5a-28cf-4000-bcea-d91165e9c4c7",
        "colab": {
          "base_uri": "https://localhost:8080/",
          "height": 34
        }
      },
      "source": [
        "!pip install --upgrade papermill -q"
      ],
      "execution_count": 1,
      "outputs": [
        {
          "output_type": "stream",
          "text": [
            "\u001b[?25l\r\u001b[K     |█████▊                          | 10kB 28.0MB/s eta 0:00:01\r\u001b[K     |███████████▌                    | 20kB 33.2MB/s eta 0:00:01\r\u001b[K     |█████████████████▎              | 30kB 41.3MB/s eta 0:00:01\r\u001b[K     |███████████████████████         | 40kB 43.2MB/s eta 0:00:01\r\u001b[K     |████████████████████████████▉   | 51kB 46.3MB/s eta 0:00:01\r\u001b[K     |████████████████████████████████| 61kB 7.5MB/s \n",
            "\u001b[?25h"
          ],
          "name": "stdout"
        }
      ]
    },
    {
      "cell_type": "code",
      "metadata": {
        "id": "viFV5VSii2ix",
        "colab_type": "code",
        "colab": {}
      },
      "source": [
        "import papermill as pm\n",
        "import json\n",
        "import os\n",
        "from google.colab import drive as downDrive\n",
        "from pydrive.auth import GoogleAuth\n",
        "from pydrive.drive import GoogleDrive\n",
        "from google.colab import auth\n",
        "from oauth2client.client import GoogleCredentials"
      ],
      "execution_count": 0,
      "outputs": []
    },
    {
      "cell_type": "markdown",
      "metadata": {
        "id": "mybvE85j62DN",
        "colab_type": "text"
      },
      "source": [
        "## Connect\n",
        "You must allow both Google Colab Drive and PyDrive access to your Google Drive. This seems like a redundancy but both drive objects have unique methods required for this patch."
      ]
    },
    {
      "cell_type": "code",
      "metadata": {
        "id": "SHId8QUTQ1_c",
        "colab_type": "code",
        "colab": {}
      },
      "source": [
        "auth.authenticate_user()\n",
        "gauth = GoogleAuth()\n",
        "gauth.credentials = GoogleCredentials.get_application_default()\n",
        "upDrive = GoogleDrive(gauth)"
      ],
      "execution_count": 0,
      "outputs": []
    },
    {
      "cell_type": "code",
      "metadata": {
        "colab_type": "code",
        "outputId": "9e10bbca-0c4f-425e-8504-0a0b6a9923f1",
        "id": "xNdgvLbFTC0R",
        "colab": {
          "base_uri": "https://localhost:8080/",
          "height": 122
        }
      },
      "source": [
        "downDrive.mount('/content/drive/')"
      ],
      "execution_count": 4,
      "outputs": [
        {
          "output_type": "stream",
          "text": [
            "Go to this URL in a browser: https://accounts.google.com/o/oauth2/auth?client_id=947318989803-6bn6qk8qdgf4n4g3pfee6491hc0brc4i.apps.googleusercontent.com&redirect_uri=urn%3aietf%3awg%3aoauth%3a2.0%3aoob&response_type=code&scope=email%20https%3a%2f%2fwww.googleapis.com%2fauth%2fdocs.test%20https%3a%2f%2fwww.googleapis.com%2fauth%2fdrive%20https%3a%2f%2fwww.googleapis.com%2fauth%2fdrive.photos.readonly%20https%3a%2f%2fwww.googleapis.com%2fauth%2fpeopleapi.readonly\n",
            "\n",
            "Enter your authorization code:\n",
            "··········\n",
            "Mounted at /content/drive/\n"
          ],
          "name": "stdout"
        }
      ]
    },
    {
      "cell_type": "markdown",
      "metadata": {
        "id": "OKyFAtigYEle",
        "colab_type": "text"
      },
      "source": [
        "## Navigate\n",
        "Here you will specify the *target_dir* where the notebook you wish to parameterized is located. You should not need to change it if you are following the Medium tutorial."
      ]
    },
    {
      "cell_type": "code",
      "metadata": {
        "id": "z9gXse9vQMVD",
        "colab_type": "code",
        "colab": {}
      },
      "source": [
        "target_dir = 'drive/My Drive/Colab Notebooks/'\n",
        "os.chdir(target_dir)"
      ],
      "execution_count": 0,
      "outputs": []
    },
    {
      "cell_type": "markdown",
      "metadata": {
        "id": "s6Lq65P8YZiF",
        "colab_type": "text"
      },
      "source": [
        "It's always good to verify you are in the correct folder before moving forward. The assertion will return \"Wrong Folder!\" if Sample.ipynb is not in the current directory."
      ]
    },
    {
      "cell_type": "code",
      "metadata": {
        "id": "-g3PWN5FTr4N",
        "colab_type": "code",
        "colab": {}
      },
      "source": [
        "filenames = !ls\n",
        "filenames = filenames[0].split(' ')\n",
        "assert 'Sample.ipynb' in filenames, \"Wrong Folder!\""
      ],
      "execution_count": 0,
      "outputs": []
    },
    {
      "cell_type": "markdown",
      "metadata": {
        "id": "owM97mf-8z_K",
        "colab_type": "text"
      },
      "source": [
        "## Select and Modify\n",
        "Extract the notebook as a JSON and modify it for Papermill compatibility."
      ]
    },
    {
      "cell_type": "code",
      "metadata": {
        "id": "jq6WSVKIQBfo",
        "colab_type": "code",
        "colab": {}
      },
      "source": [
        "target_notebook = 'Sample.ipynb'\n",
        "notebook_name = target_notebook[:target_notebook.index('.')]\n",
        "f = open(target_notebook, \"r\")\n",
        "j = json.load(f)\n",
        "f.close()"
      ],
      "execution_count": 0,
      "outputs": []
    },
    {
      "cell_type": "code",
      "metadata": {
        "id": "bL1CVNEvqeFo",
        "colab_type": "code",
        "outputId": "d1d23da9-b04d-4a5e-b170-39ba12e14c0a",
        "colab": {
          "base_uri": "https://localhost:8080/",
          "height": 85
        }
      },
      "source": [
        "j['cells'][0]['metadata']['tags'] = ['parameters']\n",
        "j['cells'][0]['metadata']"
      ],
      "execution_count": 31,
      "outputs": [
        {
          "output_type": "execute_result",
          "data": {
            "text/plain": [
              "{'colab': {},\n",
              " 'colab_type': 'code',\n",
              " 'id': 'lpO4HTHgMYru',\n",
              " 'tags': ['parameters']}"
            ]
          },
          "metadata": {
            "tags": []
          },
          "execution_count": 31
        }
      ]
    },
    {
      "cell_type": "code",
      "metadata": {
        "id": "Ke3m55EBrZI_",
        "colab_type": "code",
        "outputId": "123d7fa8-e684-46cf-e7c7-2c3d28a4d2b3",
        "colab": {
          "base_uri": "https://localhost:8080/",
          "height": 34
        }
      },
      "source": [
        "j['metadata']['kernelspec']['language'] = 'python'\n",
        "j['metadata']['kernelspec']"
      ],
      "execution_count": 32,
      "outputs": [
        {
          "output_type": "execute_result",
          "data": {
            "text/plain": [
              "{'display_name': 'Python 3', 'language': 'python', 'name': 'python3'}"
            ]
          },
          "metadata": {
            "tags": []
          },
          "execution_count": 32
        }
      ]
    },
    {
      "cell_type": "code",
      "metadata": {
        "id": "CA76vroFs9NF",
        "colab_type": "code",
        "colab": {}
      },
      "source": [
        "os.chdir('../../..')\n",
        "pm_notebook_name = notebook_name + \"_PM.ipynb\"\n",
        "f = open(pm_notebook_name, \"w\")\n",
        "json.dump(j, f)\n",
        "f.close()"
      ],
      "execution_count": 0,
      "outputs": []
    },
    {
      "cell_type": "markdown",
      "metadata": {
        "id": "QEmwiqe7aoqa",
        "colab_type": "text"
      },
      "source": [
        "## Upload and Relocate\n",
        "Using PyDrive, we create a GoogleDriveFile type and specify its mimeType such that it will be interpreted as a Google Colab file when we upload it. Unfortunately it will upload to the base directory of your Google Drive so we relocate it to the target_dir we specified earlier."
      ]
    },
    {
      "cell_type": "code",
      "metadata": {
        "id": "CGHdVAMiRuAV",
        "colab_type": "code",
        "colab": {}
      },
      "source": [
        "file = upDrive.CreateFile({'title':pm_notebook_name, 'mimeType':'application/vnd.google.colaboratory'})\n",
        "file.SetContentFile(pm_notebook_name)\n",
        "file.Upload()"
      ],
      "execution_count": 0,
      "outputs": []
    },
    {
      "cell_type": "markdown",
      "metadata": {
        "id": "fZ5IyziXd-hQ",
        "colab_type": "text"
      },
      "source": [
        "#**STOP HERE!**\n",
        "**In the left pane go to the Files section and press Refresh before running the next line. If you do not refresh, the next cell will fail!**\n",
        "\n",
        "Delete the Colab server copy"
      ]
    },
    {
      "cell_type": "code",
      "metadata": {
        "id": "wUg84xfGdcmV",
        "colab_type": "code",
        "colab": {}
      },
      "source": [
        "!rm $pm_notebook_name"
      ],
      "execution_count": 0,
      "outputs": []
    },
    {
      "cell_type": "markdown",
      "metadata": {
        "id": "ZGoA0IGMeCcy",
        "colab_type": "text"
      },
      "source": [
        "Move the notebook to the correct Google Drive folder"
      ]
    },
    {
      "cell_type": "code",
      "metadata": {
        "id": "ERivGyRMbW1k",
        "colab_type": "code",
        "colab": {}
      },
      "source": [
        "!cd 'drive/My Drive' && mv $pm_notebook_name 'Colab Notebooks'"
      ],
      "execution_count": 0,
      "outputs": []
    },
    {
      "cell_type": "markdown",
      "metadata": {
        "id": "yodhBU8z87jH",
        "colab_type": "text"
      },
      "source": [
        "## Execute with Papermill\n",
        "Create a blank Colab type notebook for Papermill to overwrite.\n"
      ]
    },
    {
      "cell_type": "code",
      "metadata": {
        "id": "GuXO-L3Vfddy",
        "colab_type": "code",
        "colab": {}
      },
      "source": [
        "output_notebook_name = notebook_name + '_PM_Output.ipynb'\n",
        "file = upDrive.CreateFile({'title':output_notebook_name, 'mimeType':'application/vnd.google.colaboratory'})\n",
        "file.Upload()"
      ],
      "execution_count": 0,
      "outputs": []
    },
    {
      "cell_type": "markdown",
      "metadata": {
        "colab_type": "text",
        "id": "CJBiqNxRm6K_"
      },
      "source": [
        "#**STOP HERE!**\n",
        "**In the left pane go to the Files section and press Refresh before running the next line. If you do not refresh, the next cell will fail!**\n",
        "\n",
        "Move the output notebook into the correct folder"
      ]
    },
    {
      "cell_type": "code",
      "metadata": {
        "id": "eBjXsUzMksYm",
        "colab_type": "code",
        "colab": {}
      },
      "source": [
        "!cd 'drive/My Drive' && mv $output_notebook_name 'Colab Notebooks'"
      ],
      "execution_count": 0,
      "outputs": []
    },
    {
      "cell_type": "markdown",
      "metadata": {
        "id": "muQ97xN5gEUH",
        "colab_type": "text"
      },
      "source": [
        "Set custom parameters for the notebook."
      ]
    },
    {
      "cell_type": "code",
      "metadata": {
        "id": "eRmgbbjPHCm7",
        "colab_type": "code",
        "outputId": "38625bfa-4615-454c-94b9-f7f8a05d625e",
        "colab": {
          "base_uri": "https://localhost:8080/",
          "height": 66,
          "referenced_widgets": [
            "0e6c8faf581d4f388ac3bcb28a01167b",
            "8d949293f0f8409b8cf1e763ab3f1379",
            "7b5467dea8564ede8cabbd7c3460f13b",
            "214380b031d849acaeded67692dc00aa",
            "38f7f7fe267140d19676157c56dfb0f0",
            "0c721a17e2c74288b3e3c57aead24cfb",
            "2418d1f6da134c93b5d7b5552e949336",
            "95c8bbfa078a4fd391314f4edc767214"
          ]
        }
      },
      "source": [
        "parameters = {'test':\"Hello World!\"}\n",
        "\n",
        "_ = pm.execute_notebook(\n",
        "        input_path = target_dir + pm_notebook_name,\n",
        "        output_path = target_dir + output_notebook_name,\n",
        "        parameters = parameters\n",
        "    )"
      ],
      "execution_count": 43,
      "outputs": [
        {
          "output_type": "display_data",
          "data": {
            "application/vnd.jupyter.widget-view+json": {
              "model_id": "0e6c8faf581d4f388ac3bcb28a01167b",
              "version_minor": 0,
              "version_major": 2
            },
            "text/plain": [
              "HBox(children=(FloatProgress(value=0.0, description='Executing', max=3.0, style=ProgressStyle(description_widt…"
            ]
          },
          "metadata": {
            "tags": []
          }
        },
        {
          "output_type": "stream",
          "text": [
            "\n"
          ],
          "name": "stdout"
        }
      ]
    }
  ]
}