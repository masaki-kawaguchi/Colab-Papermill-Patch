{
  "nbformat": 4,
  "nbformat_minor": 0,
  "metadata": {
    "colab": {
      "name": "Sample.ipynb",
      "provenance": [],
      "collapsed_sections": []
    },
    "kernelspec": {
      "name": "python3",
      "display_name": "Python 3"
    }
  },
  "cells": [
    {
      "cell_type": "code",
      "metadata": {
        "id": "lpO4HTHgMYru",
        "colab_type": "code",
        "colab": {}
      },
      "source": [
        "test = None"
      ],
      "execution_count": 0,
      "outputs": []
    },
    {
      "cell_type": "code",
      "metadata": {
        "id": "yYZSnnezMdAG",
        "colab_type": "code",
        "colab": {}
      },
      "source": [
        "print(test)"
      ],
      "execution_count": 0,
      "outputs": []
    }
  ]
}